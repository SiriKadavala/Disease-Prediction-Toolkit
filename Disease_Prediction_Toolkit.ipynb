{
  "nbformat": 4,
  "nbformat_minor": 0,
  "metadata": {
    "colab": {
      "provenance": []
    },
    "kernelspec": {
      "name": "python3",
      "display_name": "Python 3"
    },
    "language_info": {
      "name": "python"
    }
  },
  "cells": [
    {
      "cell_type": "code",
      "execution_count": 2,
      "metadata": {
        "colab": {
          "base_uri": "https://localhost:8080/"
        },
        "id": "M2rfO9c7kiXv",
        "outputId": "957dd371-1a28-49a2-bc54-fff8458309e7"
      },
      "outputs": [
        {
          "output_type": "stream",
          "name": "stdout",
          "text": [
            "   age  trestbps  chol  fbs         restecg  thalch  exang  oldpeak  \\\n",
            "0   58       130   220    1          normal     150  False      1.4   \n",
            "1   67       160   276    0  lv hypertrophy     108   True      1.5   \n",
            "2   42       120   230    0          normal     170  False      1.0   \n",
            "3   50       130   210    0  lv hypertrophy     158  False      0.8   \n",
            "4   45       114   230    0          normal     165  False      1.1   \n",
            "\n",
            "         slope  ca               thal  sex_Female  sex_Male  cp_asymptomatic  \\\n",
            "0         flat   0       fixed defect           0         1                0   \n",
            "1         flat   3             normal           0         1                1   \n",
            "2    upsloping   0  reversable defect           1         0                0   \n",
            "3         flat   0             normal           0         1                0   \n",
            "4  downsloping   0             normal           1         0                0   \n",
            "\n",
            "   cp_atypical angina  cp_non-anginal  cp_typical angina  \n",
            "0                   0               0                  1  \n",
            "1                   0               0                  0  \n",
            "2                   0               1                  0  \n",
            "3                   0               1                  0  \n",
            "4                   1               0                  0  \n"
          ]
        }
      ],
      "source": [
        "import pandas as pd  # This is for handling data like a table\n",
        "import numpy as np   # This helps with math and numbers\n",
        "from sklearn.model_selection import train_test_split  # To split data for training and testing\n",
        "from sklearn.preprocessing import StandardScaler      # To scale (normalize) the data\n",
        "from sklearn.linear_model import LogisticRegression   # Model 1: Logistic Regression\n",
        "from sklearn.tree import DecisionTreeClassifier        # Model 2: Decision Tree\n",
        "from sklearn.ensemble import RandomForestClassifier   # Model 3: Random Forest\n",
        "from sklearn.metrics import accuracy_score, precision_score, recall_score, f1_score, roc_auc_score, confusion_matrix, roc_curve  # For evaluating models\n",
        "import matplotlib.pyplot as plt  # For making charts\n",
        "import seaborn as sns            # For nicer charts\n",
        "\n",
        "# Load the dataset\n",
        "data = pd.read_csv('heart_dataset.csv')  # Change 'heart.csv' if your file name is different\n",
        "\n",
        "# Show the first 5 rows to check\n",
        "print(data.head())"
      ]
    },
    {
      "cell_type": "code",
      "source": [
        "# Check for missing values (should be none, but good to check)\n",
        "print(data.isnull().sum())  # If any >0, we'll fix later\n",
        "\n",
        "# In standard dataset, categories are numbers. If yours has strings (like in your sample), encode them.\n",
        "# Use one-hot encoding for categorical features\n",
        "data = pd.get_dummies(data, columns=['restecg', 'slope', 'thal'], drop_first=True)\n",
        "\n",
        "# Separate features (X) and target (y)\n",
        "# Based on the head of the dataframe, the target column seems to be the last one. Let's assume it's the last column.\n",
        "X = data.iloc[:, :-1]  # All columns except the last one\n",
        "y = data.iloc[:, -1]   # The last column is the target\n",
        "\n",
        "\n",
        "# Split into train and test sets (80% train, 20% test)\n",
        "X_train, X_test, y_train, y_test = train_test_split(X, y, test_size=0.2, random_state=42)\n",
        "\n",
        "# Scale the data (make numbers similar size for better model)\n",
        "scaler = StandardScaler()\n",
        "X_train = scaler.fit_transform(X_train)\n",
        "X_test = scaler.transform(X_test)\n",
        "\n",
        "print(\"Data preprocessed successfully!\")"
      ],
      "metadata": {
        "colab": {
          "base_uri": "https://localhost:8080/"
        },
        "id": "n2_SHfpeku2Q",
        "outputId": "6c9be79e-ab38-450f-d212-c4dde05c4d80"
      },
      "execution_count": 5,
      "outputs": [
        {
          "output_type": "stream",
          "name": "stdout",
          "text": [
            "age                   0\n",
            "trestbps              0\n",
            "chol                  0\n",
            "fbs                   0\n",
            "restecg               0\n",
            "thalch                0\n",
            "exang                 0\n",
            "oldpeak               0\n",
            "slope                 0\n",
            "ca                    0\n",
            "thal                  0\n",
            "sex_Female            0\n",
            "sex_Male              0\n",
            "cp_asymptomatic       0\n",
            "cp_atypical angina    0\n",
            "cp_non-anginal        0\n",
            "cp_typical angina     0\n",
            "dtype: int64\n",
            "Data preprocessed successfully!\n"
          ]
        }
      ]
    },
    {
      "cell_type": "code",
      "source": [
        "# Model 1: Logistic Regression\n",
        "log_reg = LogisticRegression()\n",
        "log_reg.fit(X_train, y_train)  # Train it\n",
        "y_pred_log = log_reg.predict(X_test)  # Predict on test\n",
        "\n",
        "# Model 2: Decision Tree\n",
        "dec_tree = DecisionTreeClassifier()\n",
        "dec_tree.fit(X_train, y_train)\n",
        "y_pred_tree = dec_tree.predict(X_test)\n",
        "\n",
        "# Model 3: Random Forest\n",
        "rand_forest = RandomForestClassifier()\n",
        "rand_forest.fit(X_train, y_train)\n",
        "y_pred_forest = rand_forest.predict(X_test)\n",
        "\n",
        "print(\"Models trained!\")"
      ],
      "metadata": {
        "colab": {
          "base_uri": "https://localhost:8080/"
        },
        "id": "FcrW6vHXk6Kd",
        "outputId": "4c0e5381-95bc-447d-c41a-011227dca74f"
      },
      "execution_count": 6,
      "outputs": [
        {
          "output_type": "stream",
          "name": "stdout",
          "text": [
            "Models trained!\n"
          ]
        }
      ]
    },
    {
      "cell_type": "code",
      "source": [
        "# Function to print metrics for a model\n",
        "def evaluate_model(y_true, y_pred):\n",
        "    print(\"Accuracy:\", accuracy_score(y_true, y_pred))\n",
        "    print(\"Precision:\", precision_score(y_true, y_pred))\n",
        "    print(\"Recall:\", recall_score(y_true, y_pred))\n",
        "    print(\"F1-Score:\", f1_score(y_true, y_pred))\n",
        "    print(\"ROC-AUC:\", roc_auc_score(y_true, y_pred))\n",
        "\n",
        "# Evaluate each\n",
        "print(\"Logistic Regression:\")\n",
        "evaluate_model(y_test, y_pred_log)\n",
        "print(\"\\nDecision Tree:\")\n",
        "evaluate_model(y_test, y_pred_tree)\n",
        "print(\"\\nRandom Forest:\")\n",
        "evaluate_model(y_test, y_pred_forest)\n",
        "\n",
        "# Visualize Confusion Matrix for Random Forest (example)\n",
        "cm = confusion_matrix(y_test, y_pred_forest)\n",
        "sns.heatmap(cm, annot=True, fmt='d')\n",
        "plt.title('Confusion Matrix - Random Forest')\n",
        "plt.xlabel('Predicted')\n",
        "plt.ylabel('Actual')\n",
        "plt.show()\n",
        "\n",
        "# ROC Curve for Random Forest\n",
        "fpr, tpr, _ = roc_curve(y_test, rand_forest.predict_proba(X_test)[:,1])\n",
        "plt.plot(fpr, tpr)\n",
        "plt.title('ROC Curve - Random Forest')\n",
        "plt.xlabel('False Positive Rate')\n",
        "plt.ylabel('True Positive Rate')\n",
        "plt.show()"
      ],
      "metadata": {
        "colab": {
          "base_uri": "https://localhost:8080/",
          "height": 1000
        },
        "id": "QUOeKliBlJ9F",
        "outputId": "02c092db-411d-49ca-c1f5-ed001fd512eb"
      },
      "execution_count": 7,
      "outputs": [
        {
          "output_type": "stream",
          "name": "stdout",
          "text": [
            "Logistic Regression:\n",
            "Accuracy: 1.0\n",
            "Precision: 0.0\n",
            "Recall: 0.0\n",
            "F1-Score: 0.0\n",
            "ROC-AUC: nan\n",
            "\n",
            "Decision Tree:\n",
            "Accuracy: 1.0\n",
            "Precision: 0.0\n",
            "Recall: 0.0\n",
            "F1-Score: 0.0\n",
            "ROC-AUC: nan\n",
            "\n",
            "Random Forest:\n",
            "Accuracy: 1.0\n",
            "Precision: 0.0\n",
            "Recall: 0.0\n",
            "F1-Score: 0.0\n",
            "ROC-AUC: nan\n"
          ]
        },
        {
          "output_type": "stream",
          "name": "stderr",
          "text": [
            "/usr/local/lib/python3.12/dist-packages/sklearn/metrics/_classification.py:1565: UndefinedMetricWarning: Precision is ill-defined and being set to 0.0 due to no predicted samples. Use `zero_division` parameter to control this behavior.\n",
            "  _warn_prf(average, modifier, f\"{metric.capitalize()} is\", len(result))\n",
            "/usr/local/lib/python3.12/dist-packages/sklearn/metrics/_classification.py:1565: UndefinedMetricWarning: Recall is ill-defined and being set to 0.0 due to no true samples. Use `zero_division` parameter to control this behavior.\n",
            "  _warn_prf(average, modifier, f\"{metric.capitalize()} is\", len(result))\n",
            "/usr/local/lib/python3.12/dist-packages/sklearn/metrics/_classification.py:1565: UndefinedMetricWarning: F-score is ill-defined and being set to 0.0 due to no true nor predicted samples. Use `zero_division` parameter to control this behavior.\n",
            "  _warn_prf(average, modifier, f\"{metric.capitalize()} is\", len(result))\n",
            "/usr/local/lib/python3.12/dist-packages/sklearn/metrics/_ranking.py:379: UndefinedMetricWarning: Only one class is present in y_true. ROC AUC score is not defined in that case.\n",
            "  warnings.warn(\n",
            "/usr/local/lib/python3.12/dist-packages/sklearn/metrics/_classification.py:1565: UndefinedMetricWarning: Precision is ill-defined and being set to 0.0 due to no predicted samples. Use `zero_division` parameter to control this behavior.\n",
            "  _warn_prf(average, modifier, f\"{metric.capitalize()} is\", len(result))\n",
            "/usr/local/lib/python3.12/dist-packages/sklearn/metrics/_classification.py:1565: UndefinedMetricWarning: Recall is ill-defined and being set to 0.0 due to no true samples. Use `zero_division` parameter to control this behavior.\n",
            "  _warn_prf(average, modifier, f\"{metric.capitalize()} is\", len(result))\n",
            "/usr/local/lib/python3.12/dist-packages/sklearn/metrics/_classification.py:1565: UndefinedMetricWarning: F-score is ill-defined and being set to 0.0 due to no true nor predicted samples. Use `zero_division` parameter to control this behavior.\n",
            "  _warn_prf(average, modifier, f\"{metric.capitalize()} is\", len(result))\n",
            "/usr/local/lib/python3.12/dist-packages/sklearn/metrics/_ranking.py:379: UndefinedMetricWarning: Only one class is present in y_true. ROC AUC score is not defined in that case.\n",
            "  warnings.warn(\n",
            "/usr/local/lib/python3.12/dist-packages/sklearn/metrics/_classification.py:1565: UndefinedMetricWarning: Precision is ill-defined and being set to 0.0 due to no predicted samples. Use `zero_division` parameter to control this behavior.\n",
            "  _warn_prf(average, modifier, f\"{metric.capitalize()} is\", len(result))\n",
            "/usr/local/lib/python3.12/dist-packages/sklearn/metrics/_classification.py:1565: UndefinedMetricWarning: Recall is ill-defined and being set to 0.0 due to no true samples. Use `zero_division` parameter to control this behavior.\n",
            "  _warn_prf(average, modifier, f\"{metric.capitalize()} is\", len(result))\n",
            "/usr/local/lib/python3.12/dist-packages/sklearn/metrics/_classification.py:1565: UndefinedMetricWarning: F-score is ill-defined and being set to 0.0 due to no true nor predicted samples. Use `zero_division` parameter to control this behavior.\n",
            "  _warn_prf(average, modifier, f\"{metric.capitalize()} is\", len(result))\n",
            "/usr/local/lib/python3.12/dist-packages/sklearn/metrics/_ranking.py:379: UndefinedMetricWarning: Only one class is present in y_true. ROC AUC score is not defined in that case.\n",
            "  warnings.warn(\n",
            "/usr/local/lib/python3.12/dist-packages/sklearn/metrics/_classification.py:407: UserWarning: A single label was found in 'y_true' and 'y_pred'. For the confusion matrix to have the correct shape, use the 'labels' parameter to pass all known labels.\n",
            "  warnings.warn(\n"
          ]
        },
        {
          "output_type": "display_data",
          "data": {
            "text/plain": [
              "<Figure size 640x480 with 2 Axes>"
            ],
            "image/png": "[encoded data removed]"
          },
          "metadata": {}
        },
        {
          "output_type": "stream",
          "name": "stderr",
          "text": [
            "/usr/local/lib/python3.12/dist-packages/sklearn/metrics/_ranking.py:1188: UndefinedMetricWarning: No positive samples in y_true, true positive value should be meaningless\n",
            "  warnings.warn(\n"
          ]
        },
        {
          "output_type": "display_data",
          "data": {
            "text/plain": [
              "<Figure size 640x480 with 1 Axes>"
            ],
            "image/png": "[encoded data removed]"
          },
          "metadata": {}
        }
      ]
    },
    {
      "cell_type": "code",
      "source": [
        "sample_data = pd.read_csv('sample_heart_data.csv', dtype={\n",
        "    'exang': bool,\n",
        "    'restecg_normal': bool,\n",
        "    'slope_flat': bool,\n",
        "    'slope_upsloping': bool,\n",
        "    'thal_normal': bool,\n",
        "    'thal_reversable defect': bool\n",
        "})\n",
        "\n",
        "# Drop the last column from sample_data as it seems to be the extra column\n",
        "sample_data = sample_data.iloc[:, :-1]\n",
        "\n",
        "# Preprocess sample (encode strings if needed, scale)\n",
        "# Assume it matches structure; add encoding if strings present\n",
        "sample_data = scaler.transform(sample_data)  # Scale\n",
        "\n",
        "# Predict with Random Forest\n",
        "predictions = rand_forest.predict(sample_data)\n",
        "print(\"Predictions for sample rows (1 = disease, 0 = no):\", predictions)"
      ],
      "metadata": {
        "colab": {
          "base_uri": "https://localhost:8080/"
        },
        "id": "eZIs5TyRlPS4",
        "outputId": "4fc74091-6080-41cf-aae6-6843e5fa2c97"
      },
      "execution_count": 12,
      "outputs": [
        {
          "output_type": "stream",
          "name": "stdout",
          "text": [
            "Predictions for sample rows (1 = disease, 0 = no): [False False False]\n"
          ]
        }
      ]
    }
  ]
}